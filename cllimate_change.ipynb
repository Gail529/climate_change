{
  "nbformat": 4,
  "nbformat_minor": 0,
  "metadata": {
    "colab": {
      "name": "cllimate_change.ipynb",
      "provenance": [],
      "authorship_tag": "ABX9TyPc0RY6Ak7pFAmkGvlsak12",
      "include_colab_link": true
    },
    "kernelspec": {
      "name": "python3",
      "display_name": "Python 3"
    },
    "language_info": {
      "name": "python"
    }
  },
  "cells": [
    {
      "cell_type": "markdown",
      "metadata": {
        "id": "view-in-github",
        "colab_type": "text"
      },
      "source": [
        "<a href=\"https://colab.research.google.com/github/Gail529/climate_change/blob/main/cllimate_change.ipynb\" target=\"_parent\"><img src=\"https://colab.research.google.com/assets/colab-badge.svg\" alt=\"Open In Colab\"/></a>"
      ]
    },
    {
      "cell_type": "code",
      "metadata": {
        "id": "YRQ-DS9jrqbl"
      },
      "source": [
        "import pandas as pd\n",
        "import numpy as np\n",
        "import seaborn as sns\n",
        "import matplotlib.pyplot as plt\n"
      ],
      "execution_count": 1,
      "outputs": []
    },
    {
      "cell_type": "code",
      "metadata": {
        "id": "vNa4d2vMxhsk"
      },
      "source": [
        "climate_data=pd.read_csv('/content/greenhouse_gas_inventory_data_data.csv') "
      ],
      "execution_count": 2,
      "outputs": []
    },
    {
      "cell_type": "code",
      "metadata": {
        "colab": {
          "base_uri": "https://localhost:8080/",
          "height": 197
        },
        "id": "1WRsEOuRx050",
        "outputId": "79f1dfbf-1219-44a0-eb45-986b207aa457"
      },
      "source": [
        "climate_data.head(5)"
      ],
      "execution_count": 3,
      "outputs": [
        {
          "output_type": "execute_result",
          "data": {
            "text/html": [
              "<div>\n",
              "<style scoped>\n",
              "    .dataframe tbody tr th:only-of-type {\n",
              "        vertical-align: middle;\n",
              "    }\n",
              "\n",
              "    .dataframe tbody tr th {\n",
              "        vertical-align: top;\n",
              "    }\n",
              "\n",
              "    .dataframe thead th {\n",
              "        text-align: right;\n",
              "    }\n",
              "</style>\n",
              "<table border=\"1\" class=\"dataframe\">\n",
              "  <thead>\n",
              "    <tr style=\"text-align: right;\">\n",
              "      <th></th>\n",
              "      <th>country_or_area</th>\n",
              "      <th>year</th>\n",
              "      <th>value</th>\n",
              "      <th>category</th>\n",
              "    </tr>\n",
              "  </thead>\n",
              "  <tbody>\n",
              "    <tr>\n",
              "      <th>0</th>\n",
              "      <td>Australia</td>\n",
              "      <td>2014</td>\n",
              "      <td>393126.9470</td>\n",
              "      <td>carbon_dioxide_co2_emissions_without_land_use_...</td>\n",
              "    </tr>\n",
              "    <tr>\n",
              "      <th>1</th>\n",
              "      <td>Australia</td>\n",
              "      <td>2013</td>\n",
              "      <td>396913.9365</td>\n",
              "      <td>carbon_dioxide_co2_emissions_without_land_use_...</td>\n",
              "    </tr>\n",
              "    <tr>\n",
              "      <th>2</th>\n",
              "      <td>Australia</td>\n",
              "      <td>2012</td>\n",
              "      <td>406462.8477</td>\n",
              "      <td>carbon_dioxide_co2_emissions_without_land_use_...</td>\n",
              "    </tr>\n",
              "    <tr>\n",
              "      <th>3</th>\n",
              "      <td>Australia</td>\n",
              "      <td>2011</td>\n",
              "      <td>403705.5283</td>\n",
              "      <td>carbon_dioxide_co2_emissions_without_land_use_...</td>\n",
              "    </tr>\n",
              "    <tr>\n",
              "      <th>4</th>\n",
              "      <td>Australia</td>\n",
              "      <td>2010</td>\n",
              "      <td>406200.9932</td>\n",
              "      <td>carbon_dioxide_co2_emissions_without_land_use_...</td>\n",
              "    </tr>\n",
              "  </tbody>\n",
              "</table>\n",
              "</div>"
            ],
            "text/plain": [
              "  country_or_area  ...                                           category\n",
              "0       Australia  ...  carbon_dioxide_co2_emissions_without_land_use_...\n",
              "1       Australia  ...  carbon_dioxide_co2_emissions_without_land_use_...\n",
              "2       Australia  ...  carbon_dioxide_co2_emissions_without_land_use_...\n",
              "3       Australia  ...  carbon_dioxide_co2_emissions_without_land_use_...\n",
              "4       Australia  ...  carbon_dioxide_co2_emissions_without_land_use_...\n",
              "\n",
              "[5 rows x 4 columns]"
            ]
          },
          "metadata": {
            "tags": []
          },
          "execution_count": 3
        }
      ]
    },
    {
      "cell_type": "markdown",
      "metadata": {
        "id": "hDvlBo-O18Z3"
      },
      "source": [
        "Group df into the different categories"
      ]
    },
    {
      "cell_type": "code",
      "metadata": {
        "colab": {
          "base_uri": "https://localhost:8080/",
          "height": 614
        },
        "id": "hBfrUOfQyoX-",
        "outputId": "08f7cfd8-0b33-489a-f543-84cffb19daa5"
      },
      "source": [
        "sns.set_theme(style='darkgrid',palette=\"mako\")\n",
        "plt.figure(figsize=(10,8))\n",
        "ax=climate_data['country_or_area'].value_counts().head(30).plot(kind='bar')\n"
      ],
      "execution_count": 4,
      "outputs": [
        {
          "output_type": "display_data",
          "data": {
            "image/png": "[encoded data removed]",
            "text/plain": [
              "<Figure size 720x576 with 1 Axes>"
            ]
          },
          "metadata": {
            "tags": []
          }
        }
      ]
    },
    {
      "cell_type": "code",
      "metadata": {
        "colab": {
          "base_uri": "https://localhost:8080/",
          "height": 550
        },
        "id": "TxRA-XGU0ac0",
        "outputId": "3add6d11-02a7-4000-b96e-9e113975ae25"
      },
      "source": [
        "sns.set_theme(style='darkgrid',palette=\"mako\")\n",
        "plt.figure(figsize=(10,8))\n",
        "ax=climate_data['country_or_area'].value_counts().tail(15).plot(kind='bar')\n"
      ],
      "execution_count": 5,
      "outputs": [
        {
          "output_type": "display_data",
          "data": {
            "image/png": "[encoded data removed]",
            "text/plain": [
              "<Figure size 720x576 with 1 Axes>"
            ]
          },
          "metadata": {
            "tags": []
          }
        }
      ]
    },
    {
      "cell_type": "markdown",
      "metadata": {
        "id": "UlOh430e38eE"
      },
      "source": [
        "# Extracting countries and categories in the df"
      ]
    },
    {
      "cell_type": "code",
      "metadata": {
        "colab": {
          "base_uri": "https://localhost:8080/"
        },
        "id": "sqN7ytByzi-Z",
        "outputId": "1357678a-46c8-4b78-b56c-d4943ad99a30"
      },
      "source": [
        "#list of categories in the df\n",
        "categories=list(set(climate_data['category']))\n",
        "print(categories)\n",
        "print(len(categories))\n",
        "\n",
        "\n",
        "#list of all countries in the df\n",
        "countries=list(set(climate_data['country_or_area']))\n",
        "print(len(countries))\n",
        "print(countries)\n"
      ],
      "execution_count": null,
      "outputs": [
        {
          "output_type": "stream",
          "text": [
            "['methane_ch4_emissions_without_land_use_land_use_change_and_forestry_lulucf_in_kilotonne_co2_equivalent', 'nitrogen_trifluoride_nf3_emissions_in_kilotonne_co2_equivalent', 'nitrous_oxide_n2o_emissions_without_land_use_land_use_change_and_forestry_lulucf_in_kilotonne_co2_equivalent', 'hydrofluorocarbons_hfcs_emissions_in_kilotonne_co2_equivalent', 'greenhouse_gas_ghgs_emissions_without_land_use_land_use_change_and_forestry_lulucf_in_kilotonne_co2_equivalent', 'perfluorocarbons_pfcs_emissions_in_kilotonne_co2_equivalent', 'carbon_dioxide_co2_emissions_without_land_use_land_use_change_and_forestry_lulucf_in_kilotonne_co2_equivalent', 'unspecified_mix_of_hydrofluorocarbons_hfcs_and_perfluorocarbons_pfcs_emissions_in_kilotonne_co2_equivalent', 'greenhouse_gas_ghgs_emissions_including_indirect_co2_without_lulucf_in_kilotonne_co2_equivalent', 'sulphur_hexafluoride_sf6_emissions_in_kilotonne_co2_equivalent']\n",
            "10\n",
            "43\n",
            "['Ireland', 'Austria', 'Finland', 'Malta', 'Slovakia', 'Switzerland', 'Spain', 'Belarus', 'European Union', 'France', 'Poland', 'Romania', 'Sweden', 'Latvia', 'Italy', 'Canada', 'Netherlands', 'Liechtenstein', 'Luxembourg', 'Monaco', 'Ukraine', 'Turkey', 'Belgium', 'Estonia', 'Hungary', 'Lithuania', 'Czech Republic', 'Russian Federation', 'New Zealand', 'Portugal', 'Slovenia', 'Bulgaria', 'Norway', 'Japan', 'Denmark', 'Cyprus', 'Australia', 'Greece', 'Germany', 'Croatia', 'United Kingdom', 'Iceland', 'United States of America']\n"
          ],
          "name": "stdout"
        }
      ]
    },
    {
      "cell_type": "code",
      "metadata": {
        "colab": {
          "base_uri": "https://localhost:8080/"
        },
        "id": "usFCJIKX1Peb",
        "outputId": "b5cf2c4b-646b-44c4-e768-b3670fd6db7a"
      },
      "source": [
        "#filtering off some countries\n",
        "country_list=climate_data['country_or_area'].value_counts().head(25).index\n",
        "country_list"
      ],
      "execution_count": null,
      "outputs": [
        {
          "output_type": "execute_result",
          "data": {
            "text/plain": [
              "Index(['Germany', 'European Union', 'United States of America', 'Japan',\n",
              "       'France', 'Canada', 'Austria', 'Italy', 'Ireland', 'Switzerland',\n",
              "       'Belgium', 'Russian Federation', 'Norway', 'Greece', 'Australia',\n",
              "       'United Kingdom', 'Netherlands', 'Finland', 'Romania', 'Sweden',\n",
              "       'New Zealand', 'Hungary', 'Iceland', 'Slovakia', 'Slovenia'],\n",
              "      dtype='object')"
            ]
          },
          "metadata": {
            "tags": []
          },
          "execution_count": 19
        }
      ]
    },
    {
      "cell_type": "code",
      "metadata": {
        "colab": {
          "base_uri": "https://localhost:8080/"
        },
        "id": "zo6N758-2zSS",
        "outputId": "9570a756-39f9-48f1-8b62-ff8e83c15130"
      },
      "source": [
        "#category 1\n",
        "cat_1=categories[0]\n",
        "#anakgreget_data=data.loc[data['white_id'] == 'anakgreget' ]\n",
        "cat_1_df=climate_data.loc[climate_data['category'] == cat_1 ]\n",
        "cat_1_df.info()"
      ],
      "execution_count": null,
      "outputs": [
        {
          "output_type": "stream",
          "text": [
            "<class 'pandas.core.frame.DataFrame'>\n",
            "Int64Index: 1074 entries, 4072 to 5145\n",
            "Data columns (total 4 columns):\n",
            " #   Column           Non-Null Count  Dtype  \n",
            "---  ------           --------------  -----  \n",
            " 0   country_or_area  1074 non-null   object \n",
            " 1   year             1074 non-null   int64  \n",
            " 2   value            1074 non-null   float64\n",
            " 3   category         1074 non-null   object \n",
            "dtypes: float64(1), int64(1), object(2)\n",
            "memory usage: 42.0+ KB\n"
          ],
          "name": "stdout"
        }
      ]
    },
    {
      "cell_type": "markdown",
      "metadata": {
        "id": "v6iYjtBDB4PR"
      },
      "source": [
        "Extracting array values"
      ]
    },
    {
      "cell_type": "code",
      "metadata": {
        "colab": {
          "base_uri": "https://localhost:8080/"
        },
        "id": "LGaSbx3r9eIP",
        "outputId": "7057bb8f-a5ad-40ca-f066-20bffe68d6ca"
      },
      "source": [
        "#extract array values of cat_df\n",
        "cat_1_df.head(5)\n",
        "cat_values=cat_1_df['value']\n",
        "len(cat_values)"
      ],
      "execution_count": null,
      "outputs": [
        {
          "output_type": "execute_result",
          "data": {
            "text/plain": [
              "1074"
            ]
          },
          "metadata": {
            "tags": []
          },
          "execution_count": 13
        }
      ]
    },
    {
      "cell_type": "markdown",
      "metadata": {
        "id": "QItKEq1zDPJV"
      },
      "source": [
        "Pasting array values to main-df"
      ]
    },
    {
      "cell_type": "code",
      "metadata": {
        "id": "ubg_hzC_DNzp"
      },
      "source": [
        "#new_df main_df\n",
        "col_names=list(country_list)\n",
        "country_data= cat_1_df[cat_1_df.country_or_area .isin(col_names)]\n"
      ],
      "execution_count": null,
      "outputs": []
    },
    {
      "cell_type": "code",
      "metadata": {
        "id": "_IafTuxZCYrN"
      },
      "source": [
        "#piecing it all together\n",
        "final_climate_df=climate_data.pivot_table(index=['country_or_area', 'year'], columns=\"category\", values=\"value\")\n",
        "final_climate_df.to_csv('final_climate_df.csv')"
      ],
      "execution_count": 7,
      "outputs": []
    }
  ]
}
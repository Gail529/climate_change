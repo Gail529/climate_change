{
  "nbformat": 4,
  "nbformat_minor": 0,
  "metadata": {
    "colab": {
      "name": "cllimate_change.ipynb",
      "provenance": [],
      "authorship_tag": "ABX9TyNcfUYZ9FjiwnA4mZlGArQr",
      "include_colab_link": true
    },
    "kernelspec": {
      "name": "python3",
      "display_name": "Python 3"
    },
    "language_info": {
      "name": "python"
    }
  },
  "cells": [
    {
      "cell_type": "markdown",
      "metadata": {
        "id": "view-in-github",
        "colab_type": "text"
      },
      "source": [
        "<a href=\"https://colab.research.google.com/github/Gail529/climate_change/blob/main/cllimate_change.ipynb\" target=\"_parent\"><img src=\"https://colab.research.google.com/assets/colab-badge.svg\" alt=\"Open In Colab\"/></a>"
      ]
    },
    {
      "cell_type": "code",
      "metadata": {
        "id": "YRQ-DS9jrqbl"
      },
      "source": [
        "import pandas as pd\n",
        "import numpy as np\n",
        "import seaborn as sns\n",
        "import matplotlib.pyplot as plt\n"
      ],
      "execution_count": null,
      "outputs": []
    },
    {
      "cell_type": "code",
      "metadata": {
        "id": "vNa4d2vMxhsk"
      },
      "source": [
        "climate_data=pd.read_csv('/content/greenhouse_gas_inventory_data_data.csv') "
      ],
      "execution_count": null,
      "outputs": []
    },
    {
      "cell_type": "code",
      "metadata": {
        "colab": {
          "base_uri": "https://localhost:8080/",
          "height": 197
        },
        "id": "1WRsEOuRx050",
        "outputId": "048f40d5-3cf2-4bdc-9e9c-96f6909befbc"
      },
      "source": [
        "climate_data.head(5)"
      ],
      "execution_count": null,
      "outputs": [
        {
          "output_type": "execute_result",
          "data": {
            "text/html": [
              "<div>\n",
              "<style scoped>\n",
              "    .dataframe tbody tr th:only-of-type {\n",
              "        vertical-align: middle;\n",
              "    }\n",
              "\n",
              "    .dataframe tbody tr th {\n",
              "        vertical-align: top;\n",
              "    }\n",
              "\n",
              "    .dataframe thead th {\n",
              "        text-align: right;\n",
              "    }\n",
              "</style>\n",
              "<table border=\"1\" class=\"dataframe\">\n",
              "  <thead>\n",
              "    <tr style=\"text-align: right;\">\n",
              "      <th></th>\n",
              "      <th>country_or_area</th>\n",
              "      <th>year</th>\n",
              "      <th>value</th>\n",
              "      <th>category</th>\n",
              "    </tr>\n",
              "  </thead>\n",
              "  <tbody>\n",
              "    <tr>\n",
              "      <th>0</th>\n",
              "      <td>Australia</td>\n",
              "      <td>2014</td>\n",
              "      <td>393126.9470</td>\n",
              "      <td>carbon_dioxide_co2_emissions_without_land_use_...</td>\n",
              "    </tr>\n",
              "    <tr>\n",
              "      <th>1</th>\n",
              "      <td>Australia</td>\n",
              "      <td>2013</td>\n",
              "      <td>396913.9365</td>\n",
              "      <td>carbon_dioxide_co2_emissions_without_land_use_...</td>\n",
              "    </tr>\n",
              "    <tr>\n",
              "      <th>2</th>\n",
              "      <td>Australia</td>\n",
              "      <td>2012</td>\n",
              "      <td>406462.8477</td>\n",
              "      <td>carbon_dioxide_co2_emissions_without_land_use_...</td>\n",
              "    </tr>\n",
              "    <tr>\n",
              "      <th>3</th>\n",
              "      <td>Australia</td>\n",
              "      <td>2011</td>\n",
              "      <td>403705.5283</td>\n",
              "      <td>carbon_dioxide_co2_emissions_without_land_use_...</td>\n",
              "    </tr>\n",
              "    <tr>\n",
              "      <th>4</th>\n",
              "      <td>Australia</td>\n",
              "      <td>2010</td>\n",
              "      <td>406200.9932</td>\n",
              "      <td>carbon_dioxide_co2_emissions_without_land_use_...</td>\n",
              "    </tr>\n",
              "  </tbody>\n",
              "</table>\n",
              "</div>"
            ],
            "text/plain": [
              "  country_or_area  ...                                           category\n",
              "0       Australia  ...  carbon_dioxide_co2_emissions_without_land_use_...\n",
              "1       Australia  ...  carbon_dioxide_co2_emissions_without_land_use_...\n",
              "2       Australia  ...  carbon_dioxide_co2_emissions_without_land_use_...\n",
              "3       Australia  ...  carbon_dioxide_co2_emissions_without_land_use_...\n",
              "4       Australia  ...  carbon_dioxide_co2_emissions_without_land_use_...\n",
              "\n",
              "[5 rows x 4 columns]"
            ]
          },
          "metadata": {
            "tags": []
          },
          "execution_count": 3
        }
      ]
    },
    {
      "cell_type": "markdown",
      "metadata": {
        "id": "hDvlBo-O18Z3"
      },
      "source": [
        "Group df into the different categories"
      ]
    },
    {
      "cell_type": "code",
      "metadata": {
        "colab": {
          "base_uri": "https://localhost:8080/",
          "height": 614
        },
        "id": "hBfrUOfQyoX-",
        "outputId": "6dde37c8-a484-4d9e-afca-a07b3360e331"
      },
      "source": [
        "sns.set_theme(style='darkgrid',palette=\"mako\")\n",
        "plt.figure(figsize=(10,8))\n",
        "ax=climate_data['country_or_area'].value_counts().head(30).plot(kind='bar')\n"
      ],
      "execution_count": null,
      "outputs": [
        {
          "output_type": "display_data",
          "data": {
            "image/png": "[encoded data removed]",
            "text/plain": [
              "<Figure size 720x576 with 1 Axes>"
            ]
          },
          "metadata": {
            "tags": []
          }
        }
      ]
    },
    {
      "cell_type": "code",
      "metadata": {
        "colab": {
          "base_uri": "https://localhost:8080/",
          "height": 550
        },
        "id": "TxRA-XGU0ac0",
        "outputId": "33be5b90-ec90-4a0c-adad-2011fdffc137"
      },
      "source": [
        "sns.set_theme(style='darkgrid',palette=\"mako\")\n",
        "plt.figure(figsize=(10,8))\n",
        "ax=climate_data['country_or_area'].value_counts().tail(15).plot(kind='bar')\n"
      ],
      "execution_count": null,
      "outputs": [
        {
          "output_type": "display_data",
          "data": {
            "image/png": "[encoded data removed]",
            "text/plain": [
              "<Figure size 720x576 with 1 Axes>"
            ]
          },
          "metadata": {
            "tags": []
          }
        }
      ]
    },
    {
      "cell_type": "markdown",
      "metadata": {
        "id": "UlOh430e38eE"
      },
      "source": [
        "# Extracting countries and categories in the df"
      ]
    },
    {
      "cell_type": "code",
      "metadata": {
        "colab": {
          "base_uri": "https://localhost:8080/"
        },
        "id": "sqN7ytByzi-Z",
        "outputId": "1357678a-46c8-4b78-b56c-d4943ad99a30"
      },
      "source": [
        "#list of categories in the df\n",
        "categories=list(set(climate_data['category']))\n",
        "print(categories)\n",
        "print(len(categories))\n",
        "\n",
        "\n",
        "#list of all countries in the df\n",
        "countries=list(set(climate_data['country_or_area']))\n",
        "print(len(countries))\n",
        "print(countries)\n"
      ],
      "execution_count": null,
      "outputs": [
        {
          "output_type": "stream",
          "text": [
            "['methane_ch4_emissions_without_land_use_land_use_change_and_forestry_lulucf_in_kilotonne_co2_equivalent', 'nitrogen_trifluoride_nf3_emissions_in_kilotonne_co2_equivalent', 'nitrous_oxide_n2o_emissions_without_land_use_land_use_change_and_forestry_lulucf_in_kilotonne_co2_equivalent', 'hydrofluorocarbons_hfcs_emissions_in_kilotonne_co2_equivalent', 'greenhouse_gas_ghgs_emissions_without_land_use_land_use_change_and_forestry_lulucf_in_kilotonne_co2_equivalent', 'perfluorocarbons_pfcs_emissions_in_kilotonne_co2_equivalent', 'carbon_dioxide_co2_emissions_without_land_use_land_use_change_and_forestry_lulucf_in_kilotonne_co2_equivalent', 'unspecified_mix_of_hydrofluorocarbons_hfcs_and_perfluorocarbons_pfcs_emissions_in_kilotonne_co2_equivalent', 'greenhouse_gas_ghgs_emissions_including_indirect_co2_without_lulucf_in_kilotonne_co2_equivalent', 'sulphur_hexafluoride_sf6_emissions_in_kilotonne_co2_equivalent']\n",
            "10\n",
            "43\n",
            "['Ireland', 'Austria', 'Finland', 'Malta', 'Slovakia', 'Switzerland', 'Spain', 'Belarus', 'European Union', 'France', 'Poland', 'Romania', 'Sweden', 'Latvia', 'Italy', 'Canada', 'Netherlands', 'Liechtenstein', 'Luxembourg', 'Monaco', 'Ukraine', 'Turkey', 'Belgium', 'Estonia', 'Hungary', 'Lithuania', 'Czech Republic', 'Russian Federation', 'New Zealand', 'Portugal', 'Slovenia', 'Bulgaria', 'Norway', 'Japan', 'Denmark', 'Cyprus', 'Australia', 'Greece', 'Germany', 'Croatia', 'United Kingdom', 'Iceland', 'United States of America']\n"
          ],
          "name": "stdout"
        }
      ]
    },
    {
      "cell_type": "code",
      "metadata": {
        "colab": {
          "base_uri": "https://localhost:8080/"
        },
        "id": "usFCJIKX1Peb",
        "outputId": "b5cf2c4b-646b-44c4-e768-b3670fd6db7a"
      },
      "source": [
        "#filtering off some countries\n",
        "country_list=climate_data['country_or_area'].value_counts().head(25).index\n",
        "country_list"
      ],
      "execution_count": null,
      "outputs": [
        {
          "output_type": "execute_result",
          "data": {
            "text/plain": [
              "Index(['Germany', 'European Union', 'United States of America', 'Japan',\n",
              "       'France', 'Canada', 'Austria', 'Italy', 'Ireland', 'Switzerland',\n",
              "       'Belgium', 'Russian Federation', 'Norway', 'Greece', 'Australia',\n",
              "       'United Kingdom', 'Netherlands', 'Finland', 'Romania', 'Sweden',\n",
              "       'New Zealand', 'Hungary', 'Iceland', 'Slovakia', 'Slovenia'],\n",
              "      dtype='object')"
            ]
          },
          "metadata": {
            "tags": []
          },
          "execution_count": 19
        }
      ]
    },
    {
      "cell_type": "code",
      "metadata": {
        "colab": {
          "base_uri": "https://localhost:8080/"
        },
        "id": "zo6N758-2zSS",
        "outputId": "9570a756-39f9-48f1-8b62-ff8e83c15130"
      },
      "source": [
        "#category 1\n",
        "cat_1=categories[0]\n",
        "#anakgreget_data=data.loc[data['white_id'] == 'anakgreget' ]\n",
        "cat_1_df=climate_data.loc[climate_data['category'] == cat_1 ]\n",
        "cat_1_df.info()"
      ],
      "execution_count": null,
      "outputs": [
        {
          "output_type": "stream",
          "text": [
            "<class 'pandas.core.frame.DataFrame'>\n",
            "Int64Index: 1074 entries, 4072 to 5145\n",
            "Data columns (total 4 columns):\n",
            " #   Column           Non-Null Count  Dtype  \n",
            "---  ------           --------------  -----  \n",
            " 0   country_or_area  1074 non-null   object \n",
            " 1   year             1074 non-null   int64  \n",
            " 2   value            1074 non-null   float64\n",
            " 3   category         1074 non-null   object \n",
            "dtypes: float64(1), int64(1), object(2)\n",
            "memory usage: 42.0+ KB\n"
          ],
          "name": "stdout"
        }
      ]
    },
    {
      "cell_type": "markdown",
      "metadata": {
        "id": "v6iYjtBDB4PR"
      },
      "source": [
        "Extracting array values"
      ]
    },
    {
      "cell_type": "code",
      "metadata": {
        "colab": {
          "base_uri": "https://localhost:8080/"
        },
        "id": "LGaSbx3r9eIP",
        "outputId": "7057bb8f-a5ad-40ca-f066-20bffe68d6ca"
      },
      "source": [
        "#extract array values of cat_df\n",
        "cat_1_df.head(5)\n",
        "cat_values=cat_1_df['value']\n",
        "len(cat_values)"
      ],
      "execution_count": null,
      "outputs": [
        {
          "output_type": "execute_result",
          "data": {
            "text/plain": [
              "1074"
            ]
          },
          "metadata": {
            "tags": []
          },
          "execution_count": 13
        }
      ]
    },
    {
      "cell_type": "markdown",
      "metadata": {
        "id": "QItKEq1zDPJV"
      },
      "source": [
        "Pasting array values to main-df"
      ]
    },
    {
      "cell_type": "code",
      "metadata": {
        "id": "ubg_hzC_DNzp"
      },
      "source": [
        "#new_df main_df\n",
        "col_names=list(country_list)\n",
        "country_data= cat_1_df[cat_1_df.country_or_area .isin(col_names)]\n"
      ],
      "execution_count": null,
      "outputs": []
    },
    {
      "cell_type": "code",
      "metadata": {
        "id": "_IafTuxZCYrN",
        "colab": {
          "base_uri": "https://localhost:8080/",
          "height": 456
        },
        "outputId": "227983aa-c163-4543-d470-8ec2d35bb946"
      },
      "source": [
        "#piecing it all together\n",
        "climate_data.pivot_table(index=['country_or_area', 'year'], columns=\"category\", values=\"value\")"
      ],
      "execution_count": null,
      "outputs": [
        {
          "output_type": "execute_result",
          "data": {
            "text/html": [
              "<div>\n",
              "<style scoped>\n",
              "    .dataframe tbody tr th:only-of-type {\n",
              "        vertical-align: middle;\n",
              "    }\n",
              "\n",
              "    .dataframe tbody tr th {\n",
              "        vertical-align: top;\n",
              "    }\n",
              "\n",
              "    .dataframe thead th {\n",
              "        text-align: right;\n",
              "    }\n",
              "</style>\n",
              "<table border=\"1\" class=\"dataframe\">\n",
              "  <thead>\n",
              "    <tr style=\"text-align: right;\">\n",
              "      <th></th>\n",
              "      <th>category</th>\n",
              "      <th>carbon_dioxide_co2_emissions_without_land_use_land_use_change_and_forestry_lulucf_in_kilotonne_co2_equivalent</th>\n",
              "      <th>greenhouse_gas_ghgs_emissions_including_indirect_co2_without_lulucf_in_kilotonne_co2_equivalent</th>\n",
              "      <th>greenhouse_gas_ghgs_emissions_without_land_use_land_use_change_and_forestry_lulucf_in_kilotonne_co2_equivalent</th>\n",
              "      <th>hydrofluorocarbons_hfcs_emissions_in_kilotonne_co2_equivalent</th>\n",
              "      <th>methane_ch4_emissions_without_land_use_land_use_change_and_forestry_lulucf_in_kilotonne_co2_equivalent</th>\n",
              "      <th>nitrogen_trifluoride_nf3_emissions_in_kilotonne_co2_equivalent</th>\n",
              "      <th>nitrous_oxide_n2o_emissions_without_land_use_land_use_change_and_forestry_lulucf_in_kilotonne_co2_equivalent</th>\n",
              "      <th>perfluorocarbons_pfcs_emissions_in_kilotonne_co2_equivalent</th>\n",
              "      <th>sulphur_hexafluoride_sf6_emissions_in_kilotonne_co2_equivalent</th>\n",
              "      <th>unspecified_mix_of_hydrofluorocarbons_hfcs_and_perfluorocarbons_pfcs_emissions_in_kilotonne_co2_equivalent</th>\n",
              "    </tr>\n",
              "    <tr>\n",
              "      <th>country_or_area</th>\n",
              "      <th>year</th>\n",
              "      <th></th>\n",
              "      <th></th>\n",
              "      <th></th>\n",
              "      <th></th>\n",
              "      <th></th>\n",
              "      <th></th>\n",
              "      <th></th>\n",
              "      <th></th>\n",
              "      <th></th>\n",
              "      <th></th>\n",
              "    </tr>\n",
              "  </thead>\n",
              "  <tbody>\n",
              "    <tr>\n",
              "      <th rowspan=\"5\" valign=\"top\">Australia</th>\n",
              "      <th>1990</th>\n",
              "      <td>2.782659e+05</td>\n",
              "      <td>4.186230e+05</td>\n",
              "      <td>4.186230e+05</td>\n",
              "      <td>1424.683520</td>\n",
              "      <td>118768.8378</td>\n",
              "      <td>NaN</td>\n",
              "      <td>15345.59786</td>\n",
              "      <td>4607.012919</td>\n",
              "      <td>211.018511</td>\n",
              "      <td>NaN</td>\n",
              "    </tr>\n",
              "    <tr>\n",
              "      <th>1991</th>\n",
              "      <td>2.797416e+05</td>\n",
              "      <td>4.186741e+05</td>\n",
              "      <td>4.186741e+05</td>\n",
              "      <td>1424.683520</td>\n",
              "      <td>117744.6418</td>\n",
              "      <td>NaN</td>\n",
              "      <td>14923.40502</td>\n",
              "      <td>4610.743294</td>\n",
              "      <td>228.944834</td>\n",
              "      <td>NaN</td>\n",
              "    </tr>\n",
              "    <tr>\n",
              "      <th>1992</th>\n",
              "      <td>2.847661e+05</td>\n",
              "      <td>4.230801e+05</td>\n",
              "      <td>4.230801e+05</td>\n",
              "      <td>1333.184000</td>\n",
              "      <td>116837.5067</td>\n",
              "      <td>NaN</td>\n",
              "      <td>15293.18335</td>\n",
              "      <td>4603.282544</td>\n",
              "      <td>246.858849</td>\n",
              "      <td>NaN</td>\n",
              "    </tr>\n",
              "    <tr>\n",
              "      <th>1993</th>\n",
              "      <td>2.891423e+05</td>\n",
              "      <td>4.237649e+05</td>\n",
              "      <td>4.237649e+05</td>\n",
              "      <td>1829.872000</td>\n",
              "      <td>113837.5119</td>\n",
              "      <td>NaN</td>\n",
              "      <td>15374.99343</td>\n",
              "      <td>3315.528376</td>\n",
              "      <td>264.759156</td>\n",
              "      <td>NaN</td>\n",
              "    </tr>\n",
              "    <tr>\n",
              "      <th>1994</th>\n",
              "      <td>2.938307e+05</td>\n",
              "      <td>4.240930e+05</td>\n",
              "      <td>4.240930e+05</td>\n",
              "      <td>1027.343549</td>\n",
              "      <td>110997.4102</td>\n",
              "      <td>NaN</td>\n",
              "      <td>15790.42685</td>\n",
              "      <td>2164.428749</td>\n",
              "      <td>282.640896</td>\n",
              "      <td>NaN</td>\n",
              "    </tr>\n",
              "    <tr>\n",
              "      <th>...</th>\n",
              "      <th>...</th>\n",
              "      <td>...</td>\n",
              "      <td>...</td>\n",
              "      <td>...</td>\n",
              "      <td>...</td>\n",
              "      <td>...</td>\n",
              "      <td>...</td>\n",
              "      <td>...</td>\n",
              "      <td>...</td>\n",
              "      <td>...</td>\n",
              "      <td>...</td>\n",
              "    </tr>\n",
              "    <tr>\n",
              "      <th rowspan=\"5\" valign=\"top\">United States of America</th>\n",
              "      <th>2010</th>\n",
              "      <td>5.688756e+06</td>\n",
              "      <td>6.985457e+06</td>\n",
              "      <td>6.985457e+06</td>\n",
              "      <td>141633.797800</td>\n",
              "      <td>722410.5661</td>\n",
              "      <td>562.170248</td>\n",
              "      <td>410314.23950</td>\n",
              "      <td>4536.224066</td>\n",
              "      <td>9481.913470</td>\n",
              "      <td>7762.137206</td>\n",
              "    </tr>\n",
              "    <tr>\n",
              "      <th>2011</th>\n",
              "      <td>5.559508e+06</td>\n",
              "      <td>6.865398e+06</td>\n",
              "      <td>6.865398e+06</td>\n",
              "      <td>146080.595700</td>\n",
              "      <td>717423.6902</td>\n",
              "      <td>668.931661</td>\n",
              "      <td>416521.77920</td>\n",
              "      <td>7026.626659</td>\n",
              "      <td>9990.145376</td>\n",
              "      <td>8178.469763</td>\n",
              "    </tr>\n",
              "    <tr>\n",
              "      <th>2012</th>\n",
              "      <td>5.349221e+06</td>\n",
              "      <td>6.643011e+06</td>\n",
              "      <td>6.643011e+06</td>\n",
              "      <td>147249.750900</td>\n",
              "      <td>714401.1725</td>\n",
              "      <td>631.990312</td>\n",
              "      <td>409285.58380</td>\n",
              "      <td>6054.952494</td>\n",
              "      <td>7581.757048</td>\n",
              "      <td>8584.424258</td>\n",
              "    </tr>\n",
              "    <tr>\n",
              "      <th>2013</th>\n",
              "      <td>5.502551e+06</td>\n",
              "      <td>6.799979e+06</td>\n",
              "      <td>6.799979e+06</td>\n",
              "      <td>149922.393800</td>\n",
              "      <td>721475.0556</td>\n",
              "      <td>600.342163</td>\n",
              "      <td>403349.74670</td>\n",
              "      <td>5858.174564</td>\n",
              "      <td>7229.068816</td>\n",
              "      <td>8993.807245</td>\n",
              "    </tr>\n",
              "    <tr>\n",
              "      <th>2014</th>\n",
              "      <td>5.556007e+06</td>\n",
              "      <td>6.870446e+06</td>\n",
              "      <td>6.870446e+06</td>\n",
              "      <td>157237.344900</td>\n",
              "      <td>730828.6595</td>\n",
              "      <td>490.436085</td>\n",
              "      <td>403501.45710</td>\n",
              "      <td>5582.941730</td>\n",
              "      <td>7348.782775</td>\n",
              "      <td>9449.891683</td>\n",
              "    </tr>\n",
              "  </tbody>\n",
              "</table>\n",
              "<p>1074 rows × 10 columns</p>\n",
              "</div>"
            ],
            "text/plain": [
              "category                       carbon_dioxide_co2_emissions_without_land_use_land_use_change_and_forestry_lulucf_in_kilotonne_co2_equivalent  ...  unspecified_mix_of_hydrofluorocarbons_hfcs_and_perfluorocarbons_pfcs_emissions_in_kilotonne_co2_equivalent\n",
              "country_or_area          year                                                                                                                 ...                                                                                                            \n",
              "Australia                1990                                       2.782659e+05                                                              ...                                                NaN                                                         \n",
              "                         1991                                       2.797416e+05                                                              ...                                                NaN                                                         \n",
              "                         1992                                       2.847661e+05                                                              ...                                                NaN                                                         \n",
              "                         1993                                       2.891423e+05                                                              ...                                                NaN                                                         \n",
              "                         1994                                       2.938307e+05                                                              ...                                                NaN                                                         \n",
              "...                                                                          ...                                                              ...                                                ...                                                         \n",
              "United States of America 2010                                       5.688756e+06                                                              ...                                        7762.137206                                                         \n",
              "                         2011                                       5.559508e+06                                                              ...                                        8178.469763                                                         \n",
              "                         2012                                       5.349221e+06                                                              ...                                        8584.424258                                                         \n",
              "                         2013                                       5.502551e+06                                                              ...                                        8993.807245                                                         \n",
              "                         2014                                       5.556007e+06                                                              ...                                        9449.891683                                                         \n",
              "\n",
              "[1074 rows x 10 columns]"
            ]
          },
          "metadata": {
            "tags": []
          },
          "execution_count": 33
        }
      ]
    }
  ]
}
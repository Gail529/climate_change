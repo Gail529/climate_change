{
  "nbformat": 4,
  "nbformat_minor": 0,
  "metadata": {
    "colab": {
      "name": "climate_change.ipynb",
      "provenance": [],
      "authorship_tag": "ABX9TyNh0el9/aJgsSO1JWQDBcpi",
      "include_colab_link": true
    },
    "kernelspec": {
      "name": "python3",
      "display_name": "Python 3"
    },
    "language_info": {
      "name": "python"
    }
  },
  "cells": [
    {
      "cell_type": "markdown",
      "metadata": {
        "id": "view-in-github",
        "colab_type": "text"
      },
      "source": [
        "<a href=\"https://colab.research.google.com/github/Gail529/climate_change/blob/main/climate_change.ipynb\" target=\"_parent\"><img src=\"https://colab.research.google.com/assets/colab-badge.svg\" alt=\"Open In Colab\"/></a>"
      ]
    },
    {
      "cell_type": "code",
      "metadata": {
        "colab": {
          "base_uri": "https://localhost:8080/"
        },
        "id": "td2QyHQw32-T",
        "outputId": "07170dc9-e8e6-4d5f-f766-ad90c6bd56a4"
      },
      "source": [
        "!pip install praw\n",
        "!pip install spacy"
      ],
      "execution_count": 4,
      "outputs": [
        {
          "output_type": "stream",
          "text": [
            "Requirement already satisfied: praw in /usr/local/lib/python3.7/dist-packages (7.2.0)\n",
            "Requirement already satisfied: websocket-client>=0.54.0 in /usr/local/lib/python3.7/dist-packages (from praw) (1.0.1)\n",
            "Requirement already satisfied: update-checker>=0.18 in /usr/local/lib/python3.7/dist-packages (from praw) (0.18.0)\n",
            "Requirement already satisfied: prawcore<3,>=2 in /usr/local/lib/python3.7/dist-packages (from praw) (2.1.0)\n",
            "Requirement already satisfied: requests>=2.3.0 in /usr/local/lib/python3.7/dist-packages (from update-checker>=0.18->praw) (2.23.0)\n",
            "Requirement already satisfied: chardet<4,>=3.0.2 in /usr/local/lib/python3.7/dist-packages (from requests>=2.3.0->update-checker>=0.18->praw) (3.0.4)\n",
            "Requirement already satisfied: urllib3!=1.25.0,!=1.25.1,<1.26,>=1.21.1 in /usr/local/lib/python3.7/dist-packages (from requests>=2.3.0->update-checker>=0.18->praw) (1.24.3)\n",
            "Requirement already satisfied: idna<3,>=2.5 in /usr/local/lib/python3.7/dist-packages (from requests>=2.3.0->update-checker>=0.18->praw) (2.10)\n",
            "Requirement already satisfied: certifi>=2017.4.17 in /usr/local/lib/python3.7/dist-packages (from requests>=2.3.0->update-checker>=0.18->praw) (2020.12.5)\n",
            "Requirement already satisfied: spacy in /usr/local/lib/python3.7/dist-packages (2.2.4)\n",
            "Requirement already satisfied: cymem<2.1.0,>=2.0.2 in /usr/local/lib/python3.7/dist-packages (from spacy) (2.0.5)\n",
            "Requirement already satisfied: tqdm<5.0.0,>=4.38.0 in /usr/local/lib/python3.7/dist-packages (from spacy) (4.41.1)\n",
            "Requirement already satisfied: setuptools in /usr/local/lib/python3.7/dist-packages (from spacy) (57.0.0)\n",
            "Requirement already satisfied: thinc==7.4.0 in /usr/local/lib/python3.7/dist-packages (from spacy) (7.4.0)\n",
            "Requirement already satisfied: numpy>=1.15.0 in /usr/local/lib/python3.7/dist-packages (from spacy) (1.19.5)\n",
            "Requirement already satisfied: catalogue<1.1.0,>=0.0.7 in /usr/local/lib/python3.7/dist-packages (from spacy) (1.0.0)\n",
            "Requirement already satisfied: blis<0.5.0,>=0.4.0 in /usr/local/lib/python3.7/dist-packages (from spacy) (0.4.1)\n",
            "Requirement already satisfied: requests<3.0.0,>=2.13.0 in /usr/local/lib/python3.7/dist-packages (from spacy) (2.23.0)\n",
            "Requirement already satisfied: murmurhash<1.1.0,>=0.28.0 in /usr/local/lib/python3.7/dist-packages (from spacy) (1.0.5)\n",
            "Requirement already satisfied: wasabi<1.1.0,>=0.4.0 in /usr/local/lib/python3.7/dist-packages (from spacy) (0.8.2)\n",
            "Requirement already satisfied: preshed<3.1.0,>=3.0.2 in /usr/local/lib/python3.7/dist-packages (from spacy) (3.0.5)\n",
            "Requirement already satisfied: srsly<1.1.0,>=1.0.2 in /usr/local/lib/python3.7/dist-packages (from spacy) (1.0.5)\n",
            "Requirement already satisfied: plac<1.2.0,>=0.9.6 in /usr/local/lib/python3.7/dist-packages (from spacy) (1.1.3)\n",
            "Requirement already satisfied: importlib-metadata>=0.20; python_version < \"3.8\" in /usr/local/lib/python3.7/dist-packages (from catalogue<1.1.0,>=0.0.7->spacy) (4.0.1)\n",
            "Requirement already satisfied: chardet<4,>=3.0.2 in /usr/local/lib/python3.7/dist-packages (from requests<3.0.0,>=2.13.0->spacy) (3.0.4)\n",
            "Requirement already satisfied: certifi>=2017.4.17 in /usr/local/lib/python3.7/dist-packages (from requests<3.0.0,>=2.13.0->spacy) (2020.12.5)\n",
            "Requirement already satisfied: idna<3,>=2.5 in /usr/local/lib/python3.7/dist-packages (from requests<3.0.0,>=2.13.0->spacy) (2.10)\n",
            "Requirement already satisfied: urllib3!=1.25.0,!=1.25.1,<1.26,>=1.21.1 in /usr/local/lib/python3.7/dist-packages (from requests<3.0.0,>=2.13.0->spacy) (1.24.3)\n",
            "Requirement already satisfied: zipp>=0.5 in /usr/local/lib/python3.7/dist-packages (from importlib-metadata>=0.20; python_version < \"3.8\"->catalogue<1.1.0,>=0.0.7->spacy) (3.4.1)\n",
            "Requirement already satisfied: typing-extensions>=3.6.4; python_version < \"3.8\" in /usr/local/lib/python3.7/dist-packages (from importlib-metadata>=0.20; python_version < \"3.8\"->catalogue<1.1.0,>=0.0.7->spacy) (3.7.4.3)\n"
          ],
          "name": "stdout"
        }
      ]
    },
    {
      "cell_type": "code",
      "metadata": {
        "colab": {
          "base_uri": "https://localhost:8080/"
        },
        "id": "CK4xvu6L4J2K",
        "outputId": "4c108b10-17e4-4d04-c44b-2cf220015b98"
      },
      "source": [
        "import praw\n",
        "import pandas as pd\n",
        "import datetime as dt\n",
        "import spacy\n",
        "nlp = spacy.load('en_core_web_sm')\n",
        "\n",
        "\n",
        "import nltk\n",
        "nltk.download('punkt')\n",
        "nltk.download('stopwords')\n",
        "nltk.download('wordnet')\n",
        "import string\n",
        "import re\n",
        "from nltk.tokenize import word_tokenize,sent_tokenize\n",
        "from nltk.stem import WordNetLemmatizer\n",
        "from nltk.corpus import stopwords\n",
        "from nltk.stem import PorterStemmer\n",
        " \n",
        "\n"
      ],
      "execution_count": 9,
      "outputs": [
        {
          "output_type": "stream",
          "text": [
            "[nltk_data] Downloading package punkt to /root/nltk_data...\n",
            "[nltk_data]   Unzipping tokenizers/punkt.zip.\n",
            "[nltk_data] Downloading package stopwords to /root/nltk_data...\n",
            "[nltk_data]   Unzipping corpora/stopwords.zip.\n",
            "[nltk_data] Downloading package wordnet to /root/nltk_data...\n",
            "[nltk_data]   Unzipping corpora/wordnet.zip.\n"
          ],
          "name": "stdout"
        }
      ]
    },
    {
      "cell_type": "code",
      "metadata": {
        "id": "PFNZcxvq4Orb"
      },
      "source": [
        "reddit = praw.Reddit(client_id=\"CF806mHKsiEsjw\", \\\n",
        "                     client_secret=\"urT2z76kylH16FVJCv69lhsmdD81dw\", \\\n",
        "                     user_agent=\"#\" \n",
        "                     )\n"
      ],
      "execution_count": 6,
      "outputs": []
    },
    {
      "cell_type": "code",
      "metadata": {
        "colab": {
          "base_uri": "https://localhost:8080/"
        },
        "id": "65OlNxDZ4VET",
        "outputId": "d3686f8a-8868-4d82-870f-76f47efa03da"
      },
      "source": [
        "topics_dict = {\n",
        "    \"title\":[], \n",
        "    \"score\":[], \n",
        "    \"id\":[],\n",
        "    \"url\":[], \n",
        "    \"comms_num\": [], \n",
        "    \"created\": [], \n",
        "    \"body\":[]\n",
        "    }\n",
        "\n",
        "\n",
        "subred='climate change+emission trading+carbon tax+alarmism+global warming+climate change+emmissions+environmental defence+EPA+climate change'\n",
        "\n",
        "subreddit = reddit.subreddit(subred)\n",
        "top_subreddit = subreddit.hot(limit=500)\n",
        "\n",
        "for submission in top_subreddit:\n",
        "    topics_dict[\"title\"].append(submission.title)\n",
        "    topics_dict[\"score\"].append(submission.score)\n",
        "    topics_dict[\"id\"].append(submission.id)\n",
        "    topics_dict[\"url\"].append(submission.url)\n",
        "    topics_dict[\"comms_num\"].append(submission.num_comments)\n",
        "    topics_dict[\"created\"].append(submission.created)\n",
        "    topics_dict[\"body\"].append(submission.selftext)\n",
        "\n",
        "topics_data = pd.DataFrame(topics_dict)\n",
        "topics_data\n",
        "topics_data.to_csv('reddit_Df.csv', index=False)\n"
      ],
      "execution_count": 7,
      "outputs": [
        {
          "output_type": "stream",
          "text": [
            "It appears that you are using PRAW in an asynchronous environment.\n",
            "It is strongly recommended to use Async PRAW: https://asyncpraw.readthedocs.io.\n",
            "See https://praw.readthedocs.io/en/latest/getting_started/multiple_instances.html#discord-bots-and-asynchronous-environments for more info.\n",
            "\n"
          ],
          "name": "stderr"
        }
      ]
    },
    {
      "cell_type": "code",
      "metadata": {
        "colab": {
          "base_uri": "https://localhost:8080/",
          "height": 408
        },
        "id": "pAUwvWmj7mR4",
        "outputId": "ed78e573-f965-4866-8373-2c71729c7043"
      },
      "source": [
        "topics_data"
      ],
      "execution_count": 8,
      "outputs": [
        {
          "output_type": "execute_result",
          "data": {
            "text/html": [
              "<div>\n",
              "<style scoped>\n",
              "    .dataframe tbody tr th:only-of-type {\n",
              "        vertical-align: middle;\n",
              "    }\n",
              "\n",
              "    .dataframe tbody tr th {\n",
              "        vertical-align: top;\n",
              "    }\n",
              "\n",
              "    .dataframe thead th {\n",
              "        text-align: right;\n",
              "    }\n",
              "</style>\n",
              "<table border=\"1\" class=\"dataframe\">\n",
              "  <thead>\n",
              "    <tr style=\"text-align: right;\">\n",
              "      <th></th>\n",
              "      <th>title</th>\n",
              "      <th>score</th>\n",
              "      <th>id</th>\n",
              "      <th>url</th>\n",
              "      <th>comms_num</th>\n",
              "      <th>created</th>\n",
              "      <th>body</th>\n",
              "    </tr>\n",
              "  </thead>\n",
              "  <tbody>\n",
              "    <tr>\n",
              "      <th>0</th>\n",
              "      <td>Questions about using ground water in machine ...</td>\n",
              "      <td>1</td>\n",
              "      <td>nstx3a</td>\n",
              "      <td>https://www.reddit.com/r/EPA/comments/nstx3a/q...</td>\n",
              "      <td>4</td>\n",
              "      <td>1.622922e+09</td>\n",
              "      <td>I have recently found out the company I work f...</td>\n",
              "    </tr>\n",
              "    <tr>\n",
              "      <th>1</th>\n",
              "      <td>United States: EPA Should Ban Chlorpyrifos</td>\n",
              "      <td>3</td>\n",
              "      <td>nkss19</td>\n",
              "      <td>https://www.hrw.org/news/2021/04/19/united-sta...</td>\n",
              "      <td>1</td>\n",
              "      <td>1.621986e+09</td>\n",
              "      <td></td>\n",
              "    </tr>\n",
              "    <tr>\n",
              "      <th>2</th>\n",
              "      <td>EPA Moves To Cut A Group Of Powerful Greenhous...</td>\n",
              "      <td>3</td>\n",
              "      <td>n463ls</td>\n",
              "      <td>https://www.npr.org/2021/05/03/993054374/epa-m...</td>\n",
              "      <td>0</td>\n",
              "      <td>1.620102e+09</td>\n",
              "      <td></td>\n",
              "    </tr>\n",
              "    <tr>\n",
              "      <th>3</th>\n",
              "      <td>EPA Hoping To Streamline Ecosystem By Hosting ...</td>\n",
              "      <td>2</td>\n",
              "      <td>mvu3tg</td>\n",
              "      <td>http://www.theonion.com/epa-hoping-to-streamli...</td>\n",
              "      <td>0</td>\n",
              "      <td>1.619083e+09</td>\n",
              "      <td></td>\n",
              "    </tr>\n",
              "    <tr>\n",
              "      <th>4</th>\n",
              "      <td>Altman plants Lake Mathews</td>\n",
              "      <td>1</td>\n",
              "      <td>m4abzr</td>\n",
              "      <td>https://www.reddit.com/r/EPA/comments/m4abzr/a...</td>\n",
              "      <td>0</td>\n",
              "      <td>1.615684e+09</td>\n",
              "      <td>\\nAltman plants Lake Mathews have ruined the...</td>\n",
              "    </tr>\n",
              "    <tr>\n",
              "      <th>...</th>\n",
              "      <td>...</td>\n",
              "      <td>...</td>\n",
              "      <td>...</td>\n",
              "      <td>...</td>\n",
              "      <td>...</td>\n",
              "      <td>...</td>\n",
              "      <td>...</td>\n",
              "    </tr>\n",
              "    <tr>\n",
              "      <th>83</th>\n",
              "      <td>How the EPA's own poisoned politics failed to ...</td>\n",
              "      <td>2</td>\n",
              "      <td>4bvga1</td>\n",
              "      <td>https://thisishell.com/interviews/892-marsha-c...</td>\n",
              "      <td>0</td>\n",
              "      <td>1.458914e+09</td>\n",
              "      <td></td>\n",
              "    </tr>\n",
              "    <tr>\n",
              "      <th>84</th>\n",
              "      <td>Greens file lawsuit over new smog limits</td>\n",
              "      <td>2</td>\n",
              "      <td>3ybcbq</td>\n",
              "      <td>https://www.reddit.com/r/EPA/comments/3ybcbq/g...</td>\n",
              "      <td>0</td>\n",
              "      <td>1.451187e+09</td>\n",
              "      <td>A coalition of green groups has filed a lawsui...</td>\n",
              "    </tr>\n",
              "    <tr>\n",
              "      <th>85</th>\n",
              "      <td>Wyoming Rancher Faces Fine Of Over $16 Million...</td>\n",
              "      <td>3</td>\n",
              "      <td>3j0qhm</td>\n",
              "      <td>http://www.opposingviews.com/i/society/wyoming...</td>\n",
              "      <td>0</td>\n",
              "      <td>1.441009e+09</td>\n",
              "      <td></td>\n",
              "    </tr>\n",
              "    <tr>\n",
              "      <th>86</th>\n",
              "      <td>EPA Accident Leaves Communities With 90 Day Wa...</td>\n",
              "      <td>3</td>\n",
              "      <td>3gsxza</td>\n",
              "      <td>http://www.thesleuthjournal.com/epa-accident-l...</td>\n",
              "      <td>1</td>\n",
              "      <td>1.439463e+09</td>\n",
              "      <td></td>\n",
              "    </tr>\n",
              "    <tr>\n",
              "      <th>87</th>\n",
              "      <td>Thank you for fucking up Colorado's river, you...</td>\n",
              "      <td>9</td>\n",
              "      <td>3g72wb</td>\n",
              "      <td>http://www.9news.com/story/news/local/2015/08/...</td>\n",
              "      <td>2</td>\n",
              "      <td>1.439025e+09</td>\n",
              "      <td></td>\n",
              "    </tr>\n",
              "  </tbody>\n",
              "</table>\n",
              "<p>88 rows × 7 columns</p>\n",
              "</div>"
            ],
            "text/plain": [
              "                                                title  ...                                               body\n",
              "0   Questions about using ground water in machine ...  ...  I have recently found out the company I work f...\n",
              "1          United States: EPA Should Ban Chlorpyrifos  ...                                                   \n",
              "2   EPA Moves To Cut A Group Of Powerful Greenhous...  ...                                                   \n",
              "3   EPA Hoping To Streamline Ecosystem By Hosting ...  ...                                                   \n",
              "4                          Altman plants Lake Mathews  ...    \\nAltman plants Lake Mathews have ruined the...\n",
              "..                                                ...  ...                                                ...\n",
              "83  How the EPA's own poisoned politics failed to ...  ...                                                   \n",
              "84           Greens file lawsuit over new smog limits  ...  A coalition of green groups has filed a lawsui...\n",
              "85  Wyoming Rancher Faces Fine Of Over $16 Million...  ...                                                   \n",
              "86  EPA Accident Leaves Communities With 90 Day Wa...  ...                                                   \n",
              "87  Thank you for fucking up Colorado's river, you...  ...                                                   \n",
              "\n",
              "[88 rows x 7 columns]"
            ]
          },
          "metadata": {
            "tags": []
          },
          "execution_count": 8
        }
      ]
    },
    {
      "cell_type": "code",
      "metadata": {
        "colab": {
          "base_uri": "https://localhost:8080/"
        },
        "id": "q_pCQn_h95-z",
        "outputId": "b48ed8a5-2ea0-4f62-90dc-24ca8bdcd01f"
      },
      "source": [
        "data=topics_data\n",
        "text=data['title'].values\n",
        "print(text)"
      ],
      "execution_count": 17,
      "outputs": [
        {
          "output_type": "stream",
          "text": [
            "['Questions about using ground water in machine glass cleaning.'\n",
            " 'United States: EPA Should Ban Chlorpyrifos'\n",
            " 'EPA Moves To Cut A Group Of Powerful Greenhouse Gases'\n",
            " 'EPA Hoping To Streamline Ecosystem By Hosting Team-Building Lunch Meet-And-Greets Between Species'\n",
            " 'Altman plants Lake Mathews' 'Hormonal disruption'\n",
            " 'Chemists developed two sustainable plastic alternatives to polyethylene, derived from plants, that can be recycled with a recovery rate of more than 96%, as low-waste, environmentally friendly replacements to conventional fossil fuel-based plastics. (Nature, 17 Feb)'\n",
            " 'Hey guys I’d like to know what would I be able to do with a bachelors in biology and an mba in an organization like the EPA?'\n",
            " 'Epa 2 2020' 'If only the EPA could help'\n",
            " 'Moving to Dallas Suburbs, concerned about Exide Lead Emissions'\n",
            " 'How difficult is it to open a pesticide manufacturing plant in the united states?'\n",
            " 'Is this safe?'\n",
            " 'Mack Trucks electrifying refuse collection in New York City'\n",
            " 'Air pollution in London has decreased drastically since 2016'\n",
            " 'EPA Denies Claims That Chlorpyrifos Pesticide Affects Brain Development'\n",
            " 'Could I get in trouble for this?'\n",
            " 'Trump EPA’s Rollback of Toxic Waste Environmental Regulations, Explained'\n",
            " 'Stand Up A Joint Interagency Task Force To Fight Illegal Fishing. Part of the problem is that 20 percent, otherwise known as Illegal, Unreported, and Unregulated (IUU) fishing.'\n",
            " \"The EPA said its Superfund program is doing well in New York State, including Tonawanda Coke and the 18 Mile Creek area in Niagara County. '..I was incredibly impressed with the on-the-ground management of the site, the reporting, the engagement with the community', Lopez said.\"\n",
            " \"Don't drink the water?\" 'EPA 40 CFR'\n",
            " 'Trump’s EPA Scraps Mercury Emissions Rules'\n",
            " 'Contact Secretary Wheeler NOW to rescind his decision to suspend enforcement of environmental laws and monitoring (copy paste in body).'\n",
            " 'Neighbors burning trash.' 'Refrigerant Regulations'\n",
            " 'EPA Jumpstarts Cleaner Trucks Initiative'\n",
            " \"Dude got fired for trying to help the environment... It's pretty messed up.\"\n",
            " 'EPA at 50: Progress for a Stronger Future'\n",
            " \"I'm really confused about EPA regulations on pesticides?\"\n",
            " 'Will epa get involved over a company uniform dispute?'\n",
            " 'IEPA Coal Ash Prevention Act in Illinois'\n",
            " 'Ilinois EPA Ethylene Oxide Law Passed'\n",
            " 'Illinois EPA Ethylene Oxide Law Passed'\n",
            " 'Fired EPA scientists to release air pollution report they say agency unqualified to issue'\n",
            " 'Hazardous Waste Disposal at a College Level.'\n",
            " 'Scumbag tries to hide a leaking oil tank'\n",
            " \"EPA new standards on AC in your Home (Spoiler: You're all morons)\"\n",
            " 'EPA collects $1.75M from Connecticut building owner for environmental cleanup'\n",
            " 'Workplace question' 'Evidence shows EPA in bed w/ Monsanto'\n",
            " 'How Many Superfunds in Region 5?'\n",
            " 'Requirements for the Great Lakes water quality'\n",
            " 'Water treatment facility'\n",
            " 'If I was starting a gold mine what epa regulations would I fall under?'\n",
            " 'Help! I have a laboratory processor. The manufacturer provided a document that states that the waste flash point is 152F. However I notice that the waste comes out in about 7 individual tubes. One of them largely emits 100% methanol. Do we sample each line or the waste as a whole?'\n",
            " 'US mining sites unleash 50 million gallons of toxic water into lakes and streams every day'\n",
            " 'Evidence suggests Glyphosate standards are failing to protect the public'\n",
            " 'Jordan Chariton Interview - Flint Water Tests Were Doctored, Covered Up ...'\n",
            " 'Environmental Certifications?'\n",
            " 'A Farewell Message from the Environment to Scott Pruitt'\n",
            " 'New Pruitt question: Where are his emails?'\n",
            " '2 Top Scott Pruitt Aides Resign From EPA'\n",
            " 'Long before Scott Pruitt, EPA colluded with industry'\n",
            " 'Safe Drinking Water Short Survey'\n",
            " 'House Dems question Pruitt over possible plans for Tulsa EPA office'\n",
            " 'EPA wants china to sell bee-killing pesticide for 165 mil acres of US farmland'\n",
            " \"EPA isn't doing it's job. Senate bill will override the EPA (good thing!). TELL YOUR REPRESENTATIVE TO SUPPORT AND MOVE THIS TO LAW!\"\n",
            " 'Video Shows Radioactive Waste Being Dumped Along The Banks Of The Columbia River In Washington State'\n",
            " 'Took the liberty to create a new logo for the Environmental Pollution Agency'\n",
            " 'Lisa Jackson, Ex-Obama EPA chief, blasts Trump transparency'\n",
            " \"They're cutting the tops off of these drums and spilling oil all over the ground trying to empty them out. I want to report them, but I work here and don't want to lose my job. I had nothing to do with this, and as soon as I told my manager they stopped, but the damage is done.\"\n",
            " 'Need help understanding air pollution levels from reports and government limits.'\n",
            " 'Student looking for EPA standard for research paper for Lead and Copper rule LCR'\n",
            " \"Last Day to Submit Comments regarding President Trump's Regulatory Reform for EPA\"\n",
            " 'The United States cannot build a wall to hold off the warming planet'\n",
            " \"Here are 42 of President Donald Trump's planned EPA budget cuts\"\n",
            " 'Impacts of Proposed EPA Cuts' 'Trump takes hatchet to EPA'\n",
            " 'The 2017 ICIT Critical Infrastructure Forum \"Rise of The Machines\". June 7, 2017. The Four Seasons - Washington D.C. Register using a .gov/.mil email address for free.'\n",
            " 'Rep. Gaetz (R-FL) and three cosponsors propose bill to terminate the EPA.'\n",
            " \"Trump's Pick for the EPA, Scott Pruitt, Will Decimate the Agency\"\n",
            " \"I've been scraping the EPA.GOV site after trump asked them to take down climate change stuff. I scraped until pages started disappearing. I'm going to be pushing it to that link over the next couple days as a mirror.\"\n",
            " 'EPA and other u/o twitter accounts'\n",
            " \"I've archived content on the Climate Change section of EPA.gov\"\n",
            " 'EPA All Public Files Torrent (and Some from NOAA) Regarding Climate Change'\n",
            " 'Trump administration tells EPA to cut climate page from website: sources'\n",
            " 'If you work at the EPA help me mirror epa.gov'\n",
            " 'Dakota Access pipeline company and Donald Trump have close financial ties'\n",
            " 'Free Amazon S3 space for EPA'\n",
            " 'Is this a nightmare? Can someone please advise on feasibility of this?'\n",
            " 'How can you get certified for Method 21?'\n",
            " 'Hey Reddit, help us say FLICK YOU to cigarette litter and the flicking habit that causes it!'\n",
            " \"How the EPA's own poisoned politics failed to protect the people of Flint.\"\n",
            " 'Greens file lawsuit over new smog limits'\n",
            " 'Wyoming Rancher Faces Fine Of Over $16 Million For Pond He Built On His Property'\n",
            " 'EPA Accident Leaves Communities With 90 Day Water Supply'\n",
            " \"Thank you for fucking up Colorado's river, you bastards.\"]\n"
          ],
          "name": "stdout"
        }
      ]
    },
    {
      "cell_type": "code",
      "metadata": {
        "id": "oaGrmLM78cyu"
      },
      "source": [
        "#lowercasing and url,punctuations and numbers removal,\n",
        "def Lowercasing(words):\n",
        "    string=re.sub(\"([^0-9A-Za-z \\t])|(\\w+:\\/\\/\\S+)\", \"\",str(words))\n",
        "    word=string.lower()\n",
        "    return word\n",
        "\n",
        "#Tokenization and (@)handle extraction\n",
        "def Tokenization(tweet):\n",
        "    tokenizer=TweetTokenizer(strip_handles=True)\n",
        "    tokens = tokenizer.tokenize(tweet)\n",
        "    return tokens\n",
        "\n",
        "#punctuations\n",
        "def Punctuation_removal(tokens):\n",
        "    words=[ word for word in tokens if word.isalnum()]\n",
        "    return words\n",
        "\n",
        "#stemming\n",
        "def stemming(text):\n",
        "    stemmer=PorterStemmer()\n",
        "    for  word in text:\n",
        "        stemmed_words=stemmer.stem(word)\n",
        "        return stemmed_words\n",
        "\n",
        "#stopword_removal\n",
        "def remove_stopwords(words):\n",
        "    stop_words=set(stopwords.words(\"english\")) \n",
        "    result=[word for word in words if word not in stop_words ]\n",
        "    return result\n",
        "\n",
        "\n",
        "#lemmatization\n",
        "def lemmatization(text):\n",
        "    lemmatizer=WordNetLemmatizer()\n",
        "    lemmatized_phrase=[]\n",
        "    for word in text:\n",
        "        lemmatized_word=lemmatizer.lemmatize(word)\n",
        "        lemmatized_phrase.append(lemmatized_word)\n",
        "    return lemmatized_phrase\n",
        " "
      ],
      "execution_count": 10,
      "outputs": []
    },
    {
      "cell_type": "code",
      "metadata": {
        "id": "bM0Ev1as9wGi"
      },
      "source": [
        "tokenized_tweets=[]\n",
        "final_tweet=[]\n",
        "    #tokenization , (@)handle removal and lemmatization\n",
        "for i in range(0,1999):\n",
        "    tweet=tweets[i]\n",
        "    tweet_tokens=Tokenization(tweet)\n",
        "    lemmatized_tweet=lemmatization(tweet_tokens)#lemmatization\n",
        "    tokenized_tweets.append(lemmatized_tweet)\n",
        "\n",
        "#lowercasing url extraction and punctuation removal\n",
        "for i in tokenized_tweets:\n",
        "    lowercased_string=Lowercasing(i)#lowercasing and removing numbers\n",
        "    final_tweet.append(lowercased_string)\n"
      ],
      "execution_count": null,
      "outputs": []
    }
  ]
}